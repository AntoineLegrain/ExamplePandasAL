{
 "cells": [
  {
   "cell_type": "code",
   "execution_count": 1,
   "metadata": {},
   "outputs": [
    {
     "name": "stdout",
     "output_type": "stream",
     "text": [
      "Spanish Football Players: \n",
      "1           Casillas\n",
      "15             Ramos\n",
      "3              Pique\n",
      "5              Puyol\n",
      "11         Capdevila\n",
      "14       Xabi Alonso\n",
      "16          Busquets\n",
      "8     Xavi Hernandez\n",
      "18           Pedrito\n",
      "6            Iniesta\n",
      "7              Villa\n",
      "dtype: object\n",
      "\n",
      "==================================================================\n",
      "\n"
     ]
    }
   ],
   "source": [
    "import pandas as pd\n",
    "\n",
    "# Series: Is a unidimensional array with indexation. Similar to dictionary\n",
    "spanishPlayers = pd.Series(\n",
    "    ['Casillas', 'Ramos', 'Pique', 'Puyol', 'Capdevila', 'Xabi Alonso', 'Busquets', 'Xavi Hernandez', 'Pedrito',\n",
    "     'Iniesta', 'Villa'], index=[1, 15, 3, 5, 11, 14, 16, 8, 18, 6, 7])\n",
    "print(\"Spanish Football Players: \\n%s\" % spanishPlayers)\n",
    "print('\\n==================================================================\\n')"
   ]
  },
  {
   "cell_type": "code",
   "execution_count": 2,
   "metadata": {},
   "outputs": [],
   "source": [
    "# series through dictionary\n",
    "dictPlayers = {1: 'Casillas', 15: 'Ramos', 3: 'Pique', 5: 'Puyol', 11: 'Capdevila', 14: 'Xabi Alonso',\n",
    "               16: 'Busquets', 8: 'Xavi Hernandez', 18: 'Pedrito', 6: 'Iniesta', 7: 'Villa'}\n",
    "players2series = pd.Series(dictPlayers)"
   ]
  },
  {
   "cell_type": "code",
   "execution_count": 3,
   "metadata": {},
   "outputs": [
    {
     "name": "stdout",
     "output_type": "stream",
     "text": [
      "Spanish Football Players through dictionary: \n",
      "1           Casillas\n",
      "15             Ramos\n",
      "3              Pique\n",
      "5              Puyol\n",
      "11         Capdevila\n",
      "14       Xabi Alonso\n",
      "16          Busquets\n",
      "8     Xavi Hernandez\n",
      "18           Pedrito\n",
      "6            Iniesta\n",
      "7              Villa\n",
      "10              Cesc\n",
      "dtype: object\n",
      "\n",
      "==================================================================\n",
      "\n"
     ]
    }
   ],
   "source": [
    "# Insert new player\n",
    "players2series[10] = 'Cesc'\n",
    "print(\"Spanish Football Players through dictionary: \\n%s\" % players2series)\n",
    "print('\\n==================================================================\\n')"
   ]
  },
  {
   "cell_type": "code",
   "execution_count": 4,
   "metadata": {},
   "outputs": [
    {
     "name": "stdout",
     "output_type": "stream",
     "text": [
      "Spanish Football Players DataFrame: \n",
      "              name         demarcation          team\n",
      "1         Casillas          Goalkeeper   Real Madrid\n",
      "15           Ramos          Right back   Real Madrid\n",
      "3            Pique         Centre-back  FC Barcelona\n",
      "5            Puyol         Centre-back  FC Barcelona\n",
      "11       Capdevila           Left back     Villareal\n",
      "14     Xabi Alonso  Defensive midfield   Real Madrid\n",
      "16        Busquets  Defensive midfield  FC Barcelona\n",
      "8   Xavi Hernandez          Midfielder  FC Barcelona\n",
      "18         Pedrito         Left winger  FC Barcelona\n",
      "6          Iniesta        Right winger  FC Barcelona\n",
      "7            Villa      Centre forward  FC Barcelona\n",
      "10            Cesc             Forward       Arsenal\n"
     ]
    }
   ],
   "source": [
    "# DataFrame: data structure similar to excel or SQL table\n",
    "spanishPlayersDF = pd.DataFrame(\n",
    "    {\n",
    "        'name': ['Casillas', 'Ramos', 'Pique', 'Puyol', 'Capdevila', 'Xabi Alonso', 'Busquets', 'Xavi Hernandez',\n",
    "                 'Pedrito', 'Iniesta', 'Villa'],\n",
    "        'demarcation': ['Goalkeeper', 'Right back', 'Centre-back', 'Centre-back', 'Left back', 'Defensive midfield',\n",
    "                        'Defensive midfield', 'Midfielder', 'Left winger', 'Right winger', 'Centre forward'],\n",
    "        'team': ['Real Madrid', 'Real Madrid', 'FC Barcelona', 'FC Barcelona', 'Villareal', 'Real Madrid',\n",
    "                 'FC Barcelona', 'FC Barcelona', 'FC Barcelona', 'FC Barcelona', 'FC Barcelona']\n",
    "    }, columns=['name', 'demarcation', 'team'], index=[1, 15, 3, 5, 11, 14, 16, 8, 18, 6, 7]\n",
    ")\n",
    "# Insert new player\n",
    "spanishPlayersDF.loc[10] = ['Cesc', 'Forward', 'Arsenal']\n",
    "print(\"Spanish Football Players DataFrame: \\n%s\" % spanishPlayersDF)"
   ]
  },
  {
   "cell_type": "code",
   "execution_count": null,
   "metadata": {},
   "outputs": [],
   "source": []
  }
 ],
 "metadata": {
  "kernelspec": {
   "display_name": "Python 3",
   "language": "python",
   "name": "python3"
  },
  "language_info": {
   "codemirror_mode": {
    "name": "ipython",
    "version": 3
   },
   "file_extension": ".py",
   "mimetype": "text/x-python",
   "name": "python",
   "nbconvert_exporter": "python",
   "pygments_lexer": "ipython3",
   "version": "3.7.4"
  },
  "toc": {
   "base_numbering": 1,
   "nav_menu": {},
   "number_sections": true,
   "sideBar": true,
   "skip_h1_title": false,
   "title_cell": "Table of Contents",
   "title_sidebar": "Contents",
   "toc_cell": false,
   "toc_position": {},
   "toc_section_display": true,
   "toc_window_display": false
  }
 },
 "nbformat": 4,
 "nbformat_minor": 2
}
